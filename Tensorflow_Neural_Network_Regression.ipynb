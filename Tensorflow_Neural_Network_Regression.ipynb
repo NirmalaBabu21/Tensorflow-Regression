{
  "nbformat": 4,
  "nbformat_minor": 0,
  "metadata": {
    "colab": {
      "name": "Tensorflow_Neural_Network- Regression.ipynb",
      "provenance": [],
      "collapsed_sections": []
    },
    "kernelspec": {
      "name": "python3",
      "display_name": "Python 3"
    },
    "language_info": {
      "name": "python"
    }
  },
  "cells": [
    {
      "cell_type": "code",
      "source": [
        "#Assignment\n",
        "\n",
        "# Split the data into train and test data\n",
        "# create the model as sequential, and set the input shape\n",
        "# Use the H1 - 20 neurons - relu\n",
        "# Use the H2 - 25 neurons - relu\n",
        "# Use the h3 - 30 neurons - relu\n",
        "# Use the h4 - 1 neurons (no activation)\n",
        "\n",
        "# Compile the model\n",
        "# optimizer = 'Adam'\n",
        "# Loss = 'mean_squared_error'\n",
        "\n",
        "# Perform the fit and report the final loss value"
      ],
      "metadata": {
        "id": "qii9OuiNPl6z"
      },
      "execution_count": null,
      "outputs": []
    },
    {
      "cell_type": "code",
      "execution_count": 1,
      "metadata": {
        "id": "r23fu14BNUaA"
      },
      "outputs": [],
      "source": [
        "import tensorflow as tf\n",
        "from tensorflow.keras import Sequential\n",
        "from tensorflow.keras.layers import Dense"
      ]
    },
    {
      "cell_type": "code",
      "source": [
        "from sklearn.datasets import load_boston\n",
        "boston = load_boston()\n",
        "\n",
        "X = boston.data\n",
        "y = boston.target\n",
        "\n",
        "from sklearn.model_selection import train_test_split\n",
        "X_train,X_test,y_train,y_test = train_test_split(X,y,test_size=0.20, random_state=42)"
      ],
      "metadata": {
        "id": "EkDz5PtBNuNg",
        "colab": {
          "base_uri": "https://localhost:8080/"
        },
        "outputId": "72d71cb2-8ca2-40eb-ebc1-e556129fdd42"
      },
      "execution_count": 2,
      "outputs": [
        {
          "output_type": "stream",
          "name": "stderr",
          "text": [
            "/usr/local/lib/python3.7/dist-packages/sklearn/utils/deprecation.py:87: FutureWarning: Function load_boston is deprecated; `load_boston` is deprecated in 1.0 and will be removed in 1.2.\n",
            "\n",
            "    The Boston housing prices dataset has an ethical problem. You can refer to\n",
            "    the documentation of this function for further details.\n",
            "\n",
            "    The scikit-learn maintainers therefore strongly discourage the use of this\n",
            "    dataset unless the purpose of the code is to study and educate about\n",
            "    ethical issues in data science and machine learning.\n",
            "\n",
            "    In this special case, you can fetch the dataset from the original\n",
            "    source::\n",
            "\n",
            "        import pandas as pd\n",
            "        import numpy as np\n",
            "\n",
            "\n",
            "        data_url = \"http://lib.stat.cmu.edu/datasets/boston\"\n",
            "        raw_df = pd.read_csv(data_url, sep=\"\\s+\", skiprows=22, header=None)\n",
            "        data = np.hstack([raw_df.values[::2, :], raw_df.values[1::2, :2]])\n",
            "        target = raw_df.values[1::2, 2]\n",
            "\n",
            "    Alternative datasets include the California housing dataset (i.e.\n",
            "    :func:`~sklearn.datasets.fetch_california_housing`) and the Ames housing\n",
            "    dataset. You can load the datasets as follows::\n",
            "\n",
            "        from sklearn.datasets import fetch_california_housing\n",
            "        housing = fetch_california_housing()\n",
            "\n",
            "    for the California housing dataset and::\n",
            "\n",
            "        from sklearn.datasets import fetch_openml\n",
            "        housing = fetch_openml(name=\"house_prices\", as_frame=True)\n",
            "\n",
            "    for the Ames housing dataset.\n",
            "    \n",
            "  warnings.warn(msg, category=FutureWarning)\n"
          ]
        }
      ]
    },
    {
      "cell_type": "code",
      "source": [
        "X_train.shape"
      ],
      "metadata": {
        "colab": {
          "base_uri": "https://localhost:8080/"
        },
        "id": "y61YBVd5OEHR",
        "outputId": "f306123e-668e-451b-e68b-5c4815fb9999"
      },
      "execution_count": 3,
      "outputs": [
        {
          "output_type": "execute_result",
          "data": {
            "text/plain": [
              "(404, 13)"
            ]
          },
          "metadata": {},
          "execution_count": 3
        }
      ]
    },
    {
      "cell_type": "code",
      "source": [
        "model = Sequential()\n",
        "model.add(Dense(units=20, activation='relu', input_shape=(13,)))\n",
        "model.add(Dense(units=25, activation='relu'))\n",
        "model.add(Dense(units=30, activation='relu'))\n",
        "model.add(Dense(units=1)) \n",
        "\n",
        "model.summary()"
      ],
      "metadata": {
        "colab": {
          "base_uri": "https://localhost:8080/"
        },
        "id": "AFe0jDy1OIGu",
        "outputId": "3f239db9-a248-43d1-abb3-d394d3976890"
      },
      "execution_count": 4,
      "outputs": [
        {
          "output_type": "stream",
          "name": "stdout",
          "text": [
            "Model: \"sequential\"\n",
            "_________________________________________________________________\n",
            " Layer (type)                Output Shape              Param #   \n",
            "=================================================================\n",
            " dense (Dense)               (None, 20)                280       \n",
            "                                                                 \n",
            " dense_1 (Dense)             (None, 25)                525       \n",
            "                                                                 \n",
            " dense_2 (Dense)             (None, 30)                780       \n",
            "                                                                 \n",
            " dense_3 (Dense)             (None, 1)                 31        \n",
            "                                                                 \n",
            "=================================================================\n",
            "Total params: 1,616\n",
            "Trainable params: 1,616\n",
            "Non-trainable params: 0\n",
            "_________________________________________________________________\n"
          ]
        }
      ]
    },
    {
      "cell_type": "code",
      "source": [
        "model.compile(optimizer='Adam',\n",
        "              loss = \"mean_squared_error\",)\n",
        "              "
      ],
      "metadata": {
        "id": "uGbLNJz0OtjF"
      },
      "execution_count": 5,
      "outputs": []
    },
    {
      "cell_type": "code",
      "source": [
        "model.fit(X_train,y_train, epochs=30, batch_size=32)"
      ],
      "metadata": {
        "colab": {
          "base_uri": "https://localhost:8080/"
        },
        "id": "E6K4qW1rPF__",
        "outputId": "e5184d32-41d2-411f-d85c-241279021394"
      },
      "execution_count": 7,
      "outputs": [
        {
          "output_type": "stream",
          "name": "stdout",
          "text": [
            "Epoch 1/30\n",
            "13/13 [==============================] - 0s 2ms/step - loss: 54.0903\n",
            "Epoch 2/30\n",
            "13/13 [==============================] - 0s 3ms/step - loss: 54.0005\n",
            "Epoch 3/30\n",
            "13/13 [==============================] - 0s 3ms/step - loss: 53.9328\n",
            "Epoch 4/30\n",
            "13/13 [==============================] - 0s 3ms/step - loss: 53.1669\n",
            "Epoch 5/30\n",
            "13/13 [==============================] - 0s 3ms/step - loss: 52.5075\n",
            "Epoch 6/30\n",
            "13/13 [==============================] - 0s 3ms/step - loss: 52.5590\n",
            "Epoch 7/30\n",
            "13/13 [==============================] - 0s 3ms/step - loss: 51.5809\n",
            "Epoch 8/30\n",
            "13/13 [==============================] - 0s 3ms/step - loss: 51.3499\n",
            "Epoch 9/30\n",
            "13/13 [==============================] - 0s 2ms/step - loss: 50.2343\n",
            "Epoch 10/30\n",
            "13/13 [==============================] - 0s 3ms/step - loss: 49.9829\n",
            "Epoch 11/30\n",
            "13/13 [==============================] - 0s 3ms/step - loss: 49.6340\n",
            "Epoch 12/30\n",
            "13/13 [==============================] - 0s 3ms/step - loss: 48.7765\n",
            "Epoch 13/30\n",
            "13/13 [==============================] - 0s 3ms/step - loss: 48.1341\n",
            "Epoch 14/30\n",
            "13/13 [==============================] - 0s 3ms/step - loss: 48.9408\n",
            "Epoch 15/30\n",
            "13/13 [==============================] - 0s 3ms/step - loss: 47.9467\n",
            "Epoch 16/30\n",
            "13/13 [==============================] - 0s 3ms/step - loss: 46.0779\n",
            "Epoch 17/30\n",
            "13/13 [==============================] - 0s 3ms/step - loss: 44.7736\n",
            "Epoch 18/30\n",
            "13/13 [==============================] - 0s 2ms/step - loss: 45.4334\n",
            "Epoch 19/30\n",
            "13/13 [==============================] - 0s 3ms/step - loss: 45.0201\n",
            "Epoch 20/30\n",
            "13/13 [==============================] - 0s 3ms/step - loss: 42.7900\n",
            "Epoch 21/30\n",
            "13/13 [==============================] - 0s 3ms/step - loss: 41.7079\n",
            "Epoch 22/30\n",
            "13/13 [==============================] - 0s 2ms/step - loss: 41.6314\n",
            "Epoch 23/30\n",
            "13/13 [==============================] - 0s 3ms/step - loss: 41.0007\n",
            "Epoch 24/30\n",
            "13/13 [==============================] - 0s 3ms/step - loss: 41.4558\n",
            "Epoch 25/30\n",
            "13/13 [==============================] - 0s 2ms/step - loss: 39.6398\n",
            "Epoch 26/30\n",
            "13/13 [==============================] - 0s 2ms/step - loss: 37.5759\n",
            "Epoch 27/30\n",
            "13/13 [==============================] - 0s 3ms/step - loss: 37.3843\n",
            "Epoch 28/30\n",
            "13/13 [==============================] - 0s 3ms/step - loss: 36.6721\n",
            "Epoch 29/30\n",
            "13/13 [==============================] - 0s 3ms/step - loss: 38.6851\n",
            "Epoch 30/30\n",
            "13/13 [==============================] - 0s 2ms/step - loss: 36.3392\n"
          ]
        },
        {
          "output_type": "execute_result",
          "data": {
            "text/plain": [
              "<keras.callbacks.History at 0x7f7aadf45190>"
            ]
          },
          "metadata": {},
          "execution_count": 7
        }
      ]
    }
  ]
}